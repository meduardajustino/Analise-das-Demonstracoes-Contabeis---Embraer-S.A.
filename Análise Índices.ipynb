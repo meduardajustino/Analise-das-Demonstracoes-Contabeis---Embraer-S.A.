{
 "cells": [
  {
   "cell_type": "markdown",
   "id": "81e478b5",
   "metadata": {},
   "source": [
    "## Análise da alavancagem do não-circulante"
   ]
  },
  {
   "cell_type": "code",
   "execution_count": 6,
   "id": "d41994da",
   "metadata": {},
   "outputs": [],
   "source": [
    "# bibliotecas usadas\n",
    "import numpy as np\n",
    "import pandas as pd"
   ]
  },
  {
   "cell_type": "code",
   "execution_count": 14,
   "id": "abebf91c",
   "metadata": {},
   "outputs": [
    {
     "name": "stderr",
     "output_type": "stream",
     "text": [
      "<>:1: SyntaxWarning: invalid escape sequence '\\{'\n",
      "<>:1: SyntaxWarning: invalid escape sequence '\\{'\n",
      "C:\\Users\\Madu\\AppData\\Local\\Temp\\ipykernel_10296\\71981632.py:1: SyntaxWarning: invalid escape sequence '\\{'\n",
      "  demonstracoes = pd.read_excel('D:\\{estudos}\\Python\\ADC - Embraer S.A\\Analise-Embraer\\Demonstrações_Embraer_Ajustado.xlsm', sheet_name=None)\n"
     ]
    },
    {
     "data": {
      "text/plain": [
       "dict_keys(['Ativo', 'Passivo', 'DRE', 'DFC'])"
      ]
     },
     "execution_count": 14,
     "metadata": {},
     "output_type": "execute_result"
    }
   ],
   "source": [
    "demonstracoes = pd.read_excel('D:\\{estudos}\\Python\\ADC - Embraer S.A\\Analise-Embraer\\Demonstrações_Embraer_Ajustado.xlsm', sheet_name=None)\n",
    "demonstracoes.keys()"
   ]
  },
  {
   "cell_type": "code",
   "execution_count": 15,
   "id": "1e376658",
   "metadata": {},
   "outputs": [
    {
     "name": "stdout",
     "output_type": "stream",
     "text": [
      "\n",
      "--- Extraindo valores-chave dos demonstrativos ---\n",
      "\n",
      "--- Base de Dados para Cálculo ---\n",
      "                                 2020             2021             2022             2023        2024\n",
      "AtivoCirculante       40549746.680452  37967991.536853  32876200.424879     30670519.513    40326906\n",
      "Estoque               16192719.426546  12832737.551855  13300908.386341     13351321.926    18181138\n",
      "AtivoTotal            69691047.315529  65618880.512908  57920929.219613    54612924.7336    73219718\n",
      "PassivoCirculante      16084627.91635  18279637.446943  18373669.443463    18565945.7574  27347016.0\n",
      "PassivoNaoCirculante  34305057.823225  29409556.675324  23417345.436912    20652951.5502  25161794.0\n",
      "PatrimonioLiquido     19301361.575954   17929686.39064  16129914.339238     15394027.426  20710908.0\n",
      "ReceitaLiquida        22827248.501455  25011789.942734  24647341.804561  27419853.608272  35424174.0\n",
      "LucroBruto             2797304.769881   3904740.967449   4950725.889129   4729220.957991   6382234.0\n",
      "LucroOperacional      -1953707.982648   1163684.532499   -583986.569638   1598961.670603   3772121.0\n",
      "LucroLiquido          -4179466.994926   -295266.533062  -1100740.706333    823687.224459   1923831.0\n",
      "LucroLiquidoSocios    -4202456.060603    -303211.49306  -1002401.592645    822851.308285   1918850.0\n",
      "PassivoTotal          50389685.739574  47689194.122268  41791014.880375    39218897.3076  52508810.0\n"
     ]
    }
   ],
   "source": [
    "# Extração dos dados da planilha\n",
    "if demonstracoes:\n",
    "    df_ativo = demonstracoes.get('Ativo')\n",
    "    df_passivo = demonstracoes.get('Passivo')\n",
    "    df_dre = demonstracoes.get('DRE')\n",
    "\n",
    "    # verificada manualmente a correspondência dos códigos com os demonstrativos\n",
    "    contas_chave = {\n",
    "        \"AtivoCirculante\":      (df_ativo, \"1.01\"),\n",
    "        \"Estoque\":              (df_ativo, \"1.01.04\"),\n",
    "        \"AtivoTotal\":           (df_ativo, \"1\"),\n",
    "        \"PassivoCirculante\":    (df_passivo, \"2.01\"),\n",
    "        \"PassivoNaoCirculante\": (df_passivo, \"2.02\"),\n",
    "        \"PatrimonioLiquido\":    (df_passivo, \"2.03\"),\n",
    "        \"ReceitaLiquida\":       (df_dre, \"3.01\"),\n",
    "        \"LucroBruto\":           (df_dre, \"3.03\"),\n",
    "        \"LucroOperacional\":     (df_dre, \"3.05\"), # EBIT\n",
    "        \"LucroLiquido\":         (df_dre, \"3.11\"),\n",
    "        \"LucroLiquidoSocios\":   (df_dre, \"3.11.01\") # Lucro líquido atribuível aos sócios\n",
    "    }\n",
    "    \n",
    "    # Extrai os dados para um DataFrame organizado por ano\n",
    "    anos = [col for col in df_ativo.columns if isinstance(col, (int, float))]\n",
    "    base_data = pd.DataFrame(index=contas_chave.keys(), columns=anos)\n",
    "\n",
    "    print(\"\\n--- Extraindo valores-chave dos demonstrativos ---\")\n",
    "    for nome, (df, codigo) in contas_chave.items():\n",
    "        if df is not None:\n",
    "            # A busca agora ocorre no dataframe com colunas já limpas\n",
    "            linha = df[df['CD_CONTA'] == str(codigo)] # Garante que o código seja string\n",
    "            if not linha.empty:\n",
    "                valores = linha.iloc[0][anos]\n",
    "                base_data.loc[nome] = valores\n",
    "            else:\n",
    "                print(f\"   AVISO: Conta '{nome}' (código {codigo}) não encontrada. Será preenchida com 0.\")\n",
    "                base_data.loc[nome] = 0\n",
    "    \n",
    "    # Adiciona passivo total (soma)\n",
    "    base_data.loc['PassivoTotal'] = base_data.loc['PassivoCirculante'] + base_data.loc['PassivoNaoCirculante']\n",
    "\n",
    "    print(\"\\n--- Base de Dados para Cálculo ---\")\n",
    "    print(base_data.to_string())"
   ]
  },
  {
   "cell_type": "markdown",
   "id": "cda50972",
   "metadata": {},
   "source": [
    "### Calculando os indicadores"
   ]
  },
  {
   "cell_type": "code",
   "execution_count": 21,
   "id": "016bb1fe",
   "metadata": {},
   "outputs": [
    {
     "name": "stdout",
     "output_type": "stream",
     "text": [
      "\n",
      "\n",
      "--- Tabela Final de Indicadores Financeiros ---\n",
      "                                   2020       2021       2022       2023       2024\n",
      "Liquidez Corrente              2.521025   2.077065   1.789311   1.651977   1.474636\n",
      "Liquidez Seca                  1.514305   1.375041   1.065399   0.932848   0.809806\n",
      "Endividamento Geral (%)       72.304389  72.676025  72.151838  71.812483  71.714029\n",
      "Composição Endividamento (%)  31.920477  38.330774  43.965598  47.339285  52.080815\n",
      "Margem Bruta (%)              12.254235  15.611601  20.086247  17.247433  18.016606\n",
      "Margem Operacional (%)        -8.558666   4.652544  -2.369369   5.831401  10.648437\n",
      "Margem Líquida (%)           -18.309114  -1.180509  -4.465961   3.003981   5.430842\n",
      "ROA (%)                       -2.803384   1.773399  -1.008248   2.927808   5.151783\n",
      "ROE (%)                      -21.653742  -1.646803  -6.824219   5.350693   9.288975\n",
      "Giro do Ativo                  0.327549   0.381168   0.425534   0.502076   0.483806\n"
     ]
    }
   ],
   "source": [
    "indicadores = pd.DataFrame(columns=anos) # DataFrame para os resultados\n",
    "\n",
    "# Liquidez\n",
    "indicadores.loc['Liquidez Corrente'] = base_data.loc['AtivoCirculante'] / base_data.loc['PassivoCirculante']\n",
    "indicadores.loc['Liquidez Seca'] = (base_data.loc['AtivoCirculante'] - base_data.loc['Estoque']) / base_data.loc['PassivoCirculante']\n",
    "    \n",
    "# Estrutura e Endividamento\n",
    "indicadores.loc['Endividamento Geral (%)'] = (base_data.loc['PassivoTotal'] / base_data.loc['AtivoTotal']) * 100\n",
    "indicadores.loc['Composição Endividamento (%)'] = (base_data.loc['PassivoCirculante'] / base_data.loc['PassivoTotal']) * 100\n",
    "    \n",
    "# Rentabilidade\n",
    "indicadores.loc['Margem Bruta (%)'] = (base_data.loc['LucroBruto'] / base_data.loc['ReceitaLiquida']) * 100\n",
    "indicadores.loc['Margem Operacional (%)'] = (base_data.loc['LucroOperacional'] / base_data.loc['ReceitaLiquida']) * 100\n",
    "indicadores.loc['Margem Líquida (%)'] = (base_data.loc['LucroLiquido'] / base_data.loc['ReceitaLiquida']) * 100\n",
    "indicadores.loc['ROA (%)'] = (base_data.loc['LucroOperacional'] / base_data.loc['AtivoTotal']) * 100\n",
    "indicadores.loc['ROE (%)'] = (base_data.loc['LucroLiquido'] / base_data.loc['PatrimonioLiquido']) * 100\n",
    "\n",
    "# Eficiência\n",
    "indicadores.loc['Giro do Ativo'] = base_data.loc['ReceitaLiquida'] / base_data.loc['AtivoTotal']\n",
    "\n",
    "\n",
    "print(\"\\n\\n--- Tabela Final de Indicadores Financeiros ---\")\n",
    "print(indicadores.round(2).to_string())"
   ]
  },
  {
   "cell_type": "markdown",
   "id": "6df2d562",
   "metadata": {},
   "source": [
    "### Exportar a tabela para excel"
   ]
  },
  {
   "cell_type": "code",
   "execution_count": 24,
   "id": "41ef0216",
   "metadata": {},
   "outputs": [
    {
     "name": "stdout",
     "output_type": "stream",
     "text": [
      "\n",
      "\n",
      " Tabela de indicadores exportada com sucesso para o arquivo: 'Indicadores_Financeiros_Embraer.xlsx'\n",
      "   O arquivo contém duas abas: 'Indicadores' e 'Dados Base'.\n"
     ]
    }
   ],
   "source": [
    "nome_arquivo_saida = \"Indicadores_Financeiros_Embraer.xlsx\"\n",
    "try:\n",
    "    # Cria um \"escritor\" de Excel para salvar múltiplas abas\n",
    "    with pd.ExcelWriter(nome_arquivo_saida, engine='openpyxl') as writer:\n",
    "        indicadores.to_excel(writer, sheet_name='Indicadores')\n",
    "        base_data.to_excel(writer, sheet_name='Dados Base')\n",
    "            \n",
    "    print(f\"\\n\\n Tabela de indicadores exportada com sucesso para o arquivo: '{nome_arquivo_saida}'\")\n",
    "    print(\"   O arquivo contém duas abas: 'Indicadores' e 'Dados Base'.\")\n",
    "except Exception as e:\n",
    "    print(f\"\\n ERRO ao exportar para Excel: {e}\")"
   ]
  },
  {
   "cell_type": "markdown",
   "id": "584a4f59",
   "metadata": {},
   "source": [
    "### Principais indicadores para análise financeira\n",
    "1. Indicadores de Liquidez\n",
    "\n",
    "- Liquidez Corrente\n",
    "\n",
    "    `Fórmula:` Ativo Circulante / Passivo Circulante\n",
    "\n",
    "    Indica: A capacidade da empresa de pagar suas dívidas de curto prazo utilizando todos os seus ativos de curto prazo. Um valor maior que 1 é geralmente desejável.\n",
    "\n",
    "- Liquidez Seca\n",
    "\n",
    "    `Fórmula:` (Ativo Circulante - Estoques) / Passivo Circulante\n",
    "\n",
    "    Indica: Similar à Liquidez Corrente, mas exclui os estoques, que são considerados menos líquidos. Mostra a capacidade de pagamento sem depender da venda de produtos.\n",
    "\n",
    "\n",
    "2. Indicadores de Estrutura de Capital e Endividamento\n",
    "\n",
    "- Participação de Capitais de Terceiros (Endividamento Geral)\n",
    "\n",
    "    `Fórmula:` (Passivo Circulante + Passivo Não Circulante) / Ativo Total\n",
    "\n",
    "    Indica: A proporção dos ativos da empresa que é financiada por capital de terceiros (dívidas). Quanto maior o indicador, maior o endividamento.\n",
    "\n",
    "- Composição do Endividamento\n",
    "\n",
    "    `Fórmula:` Passivo Circulante / (Passivo Circulante + Passivo Não Circulante)\n",
    "\n",
    "    Indica: A porcentagem da dívida total que vence no curto prazo. Um valor menor sugere um perfil de dívida mais saudável e de longo prazo.\n",
    "\n",
    "\n",
    "3. Indicadores de Rentabilidade\n",
    "\n",
    "- Margem Bruta\n",
    "\n",
    "    `Fórmula:` Lucro Bruto / Receita Líquida\n",
    "\n",
    "    Indica: A rentabilidade das vendas após a dedução do custo dos produtos/serviços. Mostra a eficiência da produção e precificação.\n",
    "\n",
    "- Margem Operacional (Margem EBIT)\n",
    "\n",
    "    `Fórmula:` Lucro Operacional (EBIT) / Receita Líquida\n",
    "\n",
    "    Indica: A rentabilidade gerada pelas operações principais da empresa, antes do resultado financeiro e dos impostos.\n",
    "\n",
    "- Margem Líquida\n",
    "\n",
    "    `Fórmula:` Lucro Líquido / Receita Líquida\n",
    "\n",
    "    Indica: A porcentagem de cada R$ 1,00 de receita que efetivamente se transforma em lucro líquido após todas as despesas e impostos.\n",
    "\n",
    "- Retorno sobre o Ativo (ROA)\n",
    "\n",
    "    `Fórmula:` Lucro Operacional (EBIT) / Ativo Total\n",
    "\n",
    "    Indica: A eficiência da empresa em gerar lucro a partir de todos os seus ativos. Mede a rentabilidade operacional do negócio.\n",
    "\n",
    "- Retorno sobre o Patrimônio Líquido (ROE)\n",
    "\n",
    "    `Fórmula:` Lucro Líquido / Patrimônio Líquido\n",
    "\n",
    "    Indica: O retorno que os acionistas obtêm sobre o capital que investiram. É um dos principais indicadores de criação de valor para o investidor.\n",
    "\n",
    "\n",
    "4. Indicadores de Eficiência\n",
    "\n",
    "- Giro do Ativo\n",
    "\n",
    "    `Fórmula:` Receita Líquida / Ativo Total\n",
    "\n",
    "    Indica: Quantos reais de receita são gerados para cada R$ 1,00 investido em ativos. Quanto maior o giro, mais eficiente é a empresa na utilização de seus ativos."
   ]
  }
 ],
 "metadata": {
  "kernelspec": {
   "display_name": "Python 3",
   "language": "python",
   "name": "python3"
  },
  "language_info": {
   "codemirror_mode": {
    "name": "ipython",
    "version": 3
   },
   "file_extension": ".py",
   "mimetype": "text/x-python",
   "name": "python",
   "nbconvert_exporter": "python",
   "pygments_lexer": "ipython3",
   "version": "3.13.7"
  }
 },
 "nbformat": 4,
 "nbformat_minor": 5
}
