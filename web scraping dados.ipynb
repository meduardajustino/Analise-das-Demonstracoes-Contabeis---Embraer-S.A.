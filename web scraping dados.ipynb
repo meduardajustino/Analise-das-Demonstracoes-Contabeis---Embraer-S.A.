{
 "cells": [
  {
   "cell_type": "markdown",
   "id": "25f85113",
   "metadata": {},
   "source": [
    "## **Análise de Demonstrações Financeiras - Embraer S.A. (2020 a 2024)**"
   ]
  },
  {
   "cell_type": "code",
   "execution_count": 56,
   "id": "8585fc75",
   "metadata": {},
   "outputs": [],
   "source": [
    "# bibliotecas importadas\n",
    "import requests\n",
    "import zipfile\n",
    "import os\n",
    "import pandas as pd\n",
    "import io\n",
    "import numpy as np\n",
    "from openpyxl import Workbook"
   ]
  },
  {
   "cell_type": "markdown",
   "id": "9f4d6758",
   "metadata": {},
   "source": [
    "### Baixar as DFPs (2019–2023) da Embraer em XBRL diretamente do site da CVM"
   ]
  },
  {
   "cell_type": "code",
   "execution_count": 57,
   "id": "18adbda4",
   "metadata": {},
   "outputs": [
    {
     "name": "stdout",
     "output_type": "stream",
     "text": [
      "🔽 Baixando ano 2021...\n",
      "✅ Zip salvo: zips\\dfp_cia_aberta_2021.zip\n",
      "   ↳ Extraindo dfp_cia_aberta_BPA_con_2021.csv para Ativo, ano 2021\n"
     ]
    },
    {
     "name": "stderr",
     "output_type": "stream",
     "text": [
      "C:\\Users\\Madu\\AppData\\Local\\Temp\\ipykernel_16956\\355045126.py:58: SettingWithCopyWarning: \n",
      "A value is trying to be set on a copy of a slice from a DataFrame.\n",
      "Try using .loc[row_indexer,col_indexer] = value instead\n",
      "\n",
      "See the caveats in the documentation: https://pandas.pydata.org/pandas-docs/stable/user_guide/indexing.html#returning-a-view-versus-a-copy\n",
      "  df_emb[\"ANO\"] = pd.to_datetime(df_emb[\"DT_FIM_EXERC\"], format=\"%Y-%m-%d\").dt.year\n"
     ]
    },
    {
     "name": "stdout",
     "output_type": "stream",
     "text": [
      "   ↳ Extraindo dfp_cia_aberta_BPP_con_2021.csv para Passivo, ano 2021\n"
     ]
    },
    {
     "name": "stderr",
     "output_type": "stream",
     "text": [
      "C:\\Users\\Madu\\AppData\\Local\\Temp\\ipykernel_16956\\355045126.py:58: SettingWithCopyWarning: \n",
      "A value is trying to be set on a copy of a slice from a DataFrame.\n",
      "Try using .loc[row_indexer,col_indexer] = value instead\n",
      "\n",
      "See the caveats in the documentation: https://pandas.pydata.org/pandas-docs/stable/user_guide/indexing.html#returning-a-view-versus-a-copy\n",
      "  df_emb[\"ANO\"] = pd.to_datetime(df_emb[\"DT_FIM_EXERC\"], format=\"%Y-%m-%d\").dt.year\n",
      "C:\\Users\\Madu\\AppData\\Local\\Temp\\ipykernel_16956\\355045126.py:58: SettingWithCopyWarning: \n",
      "A value is trying to be set on a copy of a slice from a DataFrame.\n",
      "Try using .loc[row_indexer,col_indexer] = value instead\n",
      "\n",
      "See the caveats in the documentation: https://pandas.pydata.org/pandas-docs/stable/user_guide/indexing.html#returning-a-view-versus-a-copy\n",
      "  df_emb[\"ANO\"] = pd.to_datetime(df_emb[\"DT_FIM_EXERC\"], format=\"%Y-%m-%d\").dt.year\n"
     ]
    },
    {
     "name": "stdout",
     "output_type": "stream",
     "text": [
      "   ↳ Extraindo dfp_cia_aberta_DRE_con_2021.csv para DRE, ano 2021\n",
      "   ↳ Extraindo dfp_cia_aberta_DFC_MI_con_2021.csv para DFC, ano 2021\n"
     ]
    },
    {
     "name": "stderr",
     "output_type": "stream",
     "text": [
      "C:\\Users\\Madu\\AppData\\Local\\Temp\\ipykernel_16956\\355045126.py:58: SettingWithCopyWarning: \n",
      "A value is trying to be set on a copy of a slice from a DataFrame.\n",
      "Try using .loc[row_indexer,col_indexer] = value instead\n",
      "\n",
      "See the caveats in the documentation: https://pandas.pydata.org/pandas-docs/stable/user_guide/indexing.html#returning-a-view-versus-a-copy\n",
      "  df_emb[\"ANO\"] = pd.to_datetime(df_emb[\"DT_FIM_EXERC\"], format=\"%Y-%m-%d\").dt.year\n"
     ]
    },
    {
     "name": "stdout",
     "output_type": "stream",
     "text": [
      "🔽 Baixando ano 2022...\n",
      "✅ Zip salvo: zips\\dfp_cia_aberta_2022.zip\n",
      "   ↳ Extraindo dfp_cia_aberta_BPA_con_2022.csv para Ativo, ano 2022\n",
      "   ↳ Extraindo dfp_cia_aberta_BPP_con_2022.csv para Passivo, ano 2022\n"
     ]
    },
    {
     "name": "stderr",
     "output_type": "stream",
     "text": [
      "C:\\Users\\Madu\\AppData\\Local\\Temp\\ipykernel_16956\\355045126.py:58: SettingWithCopyWarning: \n",
      "A value is trying to be set on a copy of a slice from a DataFrame.\n",
      "Try using .loc[row_indexer,col_indexer] = value instead\n",
      "\n",
      "See the caveats in the documentation: https://pandas.pydata.org/pandas-docs/stable/user_guide/indexing.html#returning-a-view-versus-a-copy\n",
      "  df_emb[\"ANO\"] = pd.to_datetime(df_emb[\"DT_FIM_EXERC\"], format=\"%Y-%m-%d\").dt.year\n",
      "C:\\Users\\Madu\\AppData\\Local\\Temp\\ipykernel_16956\\355045126.py:58: SettingWithCopyWarning: \n",
      "A value is trying to be set on a copy of a slice from a DataFrame.\n",
      "Try using .loc[row_indexer,col_indexer] = value instead\n",
      "\n",
      "See the caveats in the documentation: https://pandas.pydata.org/pandas-docs/stable/user_guide/indexing.html#returning-a-view-versus-a-copy\n",
      "  df_emb[\"ANO\"] = pd.to_datetime(df_emb[\"DT_FIM_EXERC\"], format=\"%Y-%m-%d\").dt.year\n",
      "C:\\Users\\Madu\\AppData\\Local\\Temp\\ipykernel_16956\\355045126.py:58: SettingWithCopyWarning: \n",
      "A value is trying to be set on a copy of a slice from a DataFrame.\n",
      "Try using .loc[row_indexer,col_indexer] = value instead\n",
      "\n",
      "See the caveats in the documentation: https://pandas.pydata.org/pandas-docs/stable/user_guide/indexing.html#returning-a-view-versus-a-copy\n",
      "  df_emb[\"ANO\"] = pd.to_datetime(df_emb[\"DT_FIM_EXERC\"], format=\"%Y-%m-%d\").dt.year\n"
     ]
    },
    {
     "name": "stdout",
     "output_type": "stream",
     "text": [
      "   ↳ Extraindo dfp_cia_aberta_DRE_con_2022.csv para DRE, ano 2022\n",
      "   ↳ Extraindo dfp_cia_aberta_DFC_MI_con_2022.csv para DFC, ano 2022\n"
     ]
    },
    {
     "name": "stderr",
     "output_type": "stream",
     "text": [
      "C:\\Users\\Madu\\AppData\\Local\\Temp\\ipykernel_16956\\355045126.py:58: SettingWithCopyWarning: \n",
      "A value is trying to be set on a copy of a slice from a DataFrame.\n",
      "Try using .loc[row_indexer,col_indexer] = value instead\n",
      "\n",
      "See the caveats in the documentation: https://pandas.pydata.org/pandas-docs/stable/user_guide/indexing.html#returning-a-view-versus-a-copy\n",
      "  df_emb[\"ANO\"] = pd.to_datetime(df_emb[\"DT_FIM_EXERC\"], format=\"%Y-%m-%d\").dt.year\n"
     ]
    },
    {
     "name": "stdout",
     "output_type": "stream",
     "text": [
      "🔽 Baixando ano 2023...\n",
      "✅ Zip salvo: zips\\dfp_cia_aberta_2023.zip\n",
      "   ↳ Extraindo dfp_cia_aberta_BPA_con_2023.csv para Ativo, ano 2023\n"
     ]
    },
    {
     "name": "stderr",
     "output_type": "stream",
     "text": [
      "C:\\Users\\Madu\\AppData\\Local\\Temp\\ipykernel_16956\\355045126.py:58: SettingWithCopyWarning: \n",
      "A value is trying to be set on a copy of a slice from a DataFrame.\n",
      "Try using .loc[row_indexer,col_indexer] = value instead\n",
      "\n",
      "See the caveats in the documentation: https://pandas.pydata.org/pandas-docs/stable/user_guide/indexing.html#returning-a-view-versus-a-copy\n",
      "  df_emb[\"ANO\"] = pd.to_datetime(df_emb[\"DT_FIM_EXERC\"], format=\"%Y-%m-%d\").dt.year\n"
     ]
    },
    {
     "name": "stdout",
     "output_type": "stream",
     "text": [
      "   ↳ Extraindo dfp_cia_aberta_BPP_con_2023.csv para Passivo, ano 2023\n"
     ]
    },
    {
     "name": "stderr",
     "output_type": "stream",
     "text": [
      "C:\\Users\\Madu\\AppData\\Local\\Temp\\ipykernel_16956\\355045126.py:58: SettingWithCopyWarning: \n",
      "A value is trying to be set on a copy of a slice from a DataFrame.\n",
      "Try using .loc[row_indexer,col_indexer] = value instead\n",
      "\n",
      "See the caveats in the documentation: https://pandas.pydata.org/pandas-docs/stable/user_guide/indexing.html#returning-a-view-versus-a-copy\n",
      "  df_emb[\"ANO\"] = pd.to_datetime(df_emb[\"DT_FIM_EXERC\"], format=\"%Y-%m-%d\").dt.year\n",
      "C:\\Users\\Madu\\AppData\\Local\\Temp\\ipykernel_16956\\355045126.py:58: SettingWithCopyWarning: \n",
      "A value is trying to be set on a copy of a slice from a DataFrame.\n",
      "Try using .loc[row_indexer,col_indexer] = value instead\n",
      "\n",
      "See the caveats in the documentation: https://pandas.pydata.org/pandas-docs/stable/user_guide/indexing.html#returning-a-view-versus-a-copy\n",
      "  df_emb[\"ANO\"] = pd.to_datetime(df_emb[\"DT_FIM_EXERC\"], format=\"%Y-%m-%d\").dt.year\n"
     ]
    },
    {
     "name": "stdout",
     "output_type": "stream",
     "text": [
      "   ↳ Extraindo dfp_cia_aberta_DRE_con_2023.csv para DRE, ano 2023\n",
      "   ↳ Extraindo dfp_cia_aberta_DFC_MI_con_2023.csv para DFC, ano 2023\n"
     ]
    },
    {
     "name": "stderr",
     "output_type": "stream",
     "text": [
      "C:\\Users\\Madu\\AppData\\Local\\Temp\\ipykernel_16956\\355045126.py:58: SettingWithCopyWarning: \n",
      "A value is trying to be set on a copy of a slice from a DataFrame.\n",
      "Try using .loc[row_indexer,col_indexer] = value instead\n",
      "\n",
      "See the caveats in the documentation: https://pandas.pydata.org/pandas-docs/stable/user_guide/indexing.html#returning-a-view-versus-a-copy\n",
      "  df_emb[\"ANO\"] = pd.to_datetime(df_emb[\"DT_FIM_EXERC\"], format=\"%Y-%m-%d\").dt.year\n"
     ]
    },
    {
     "name": "stdout",
     "output_type": "stream",
     "text": [
      "🔽 Baixando ano 2024...\n",
      "✅ Zip salvo: zips\\dfp_cia_aberta_2024.zip\n",
      "   ↳ Extraindo dfp_cia_aberta_BPA_con_2024.csv para Ativo, ano 2024\n"
     ]
    },
    {
     "name": "stderr",
     "output_type": "stream",
     "text": [
      "C:\\Users\\Madu\\AppData\\Local\\Temp\\ipykernel_16956\\355045126.py:58: SettingWithCopyWarning: \n",
      "A value is trying to be set on a copy of a slice from a DataFrame.\n",
      "Try using .loc[row_indexer,col_indexer] = value instead\n",
      "\n",
      "See the caveats in the documentation: https://pandas.pydata.org/pandas-docs/stable/user_guide/indexing.html#returning-a-view-versus-a-copy\n",
      "  df_emb[\"ANO\"] = pd.to_datetime(df_emb[\"DT_FIM_EXERC\"], format=\"%Y-%m-%d\").dt.year\n"
     ]
    },
    {
     "name": "stdout",
     "output_type": "stream",
     "text": [
      "   ↳ Extraindo dfp_cia_aberta_BPP_con_2024.csv para Passivo, ano 2024\n"
     ]
    },
    {
     "name": "stderr",
     "output_type": "stream",
     "text": [
      "C:\\Users\\Madu\\AppData\\Local\\Temp\\ipykernel_16956\\355045126.py:58: SettingWithCopyWarning: \n",
      "A value is trying to be set on a copy of a slice from a DataFrame.\n",
      "Try using .loc[row_indexer,col_indexer] = value instead\n",
      "\n",
      "See the caveats in the documentation: https://pandas.pydata.org/pandas-docs/stable/user_guide/indexing.html#returning-a-view-versus-a-copy\n",
      "  df_emb[\"ANO\"] = pd.to_datetime(df_emb[\"DT_FIM_EXERC\"], format=\"%Y-%m-%d\").dt.year\n",
      "C:\\Users\\Madu\\AppData\\Local\\Temp\\ipykernel_16956\\355045126.py:58: SettingWithCopyWarning: \n",
      "A value is trying to be set on a copy of a slice from a DataFrame.\n",
      "Try using .loc[row_indexer,col_indexer] = value instead\n",
      "\n",
      "See the caveats in the documentation: https://pandas.pydata.org/pandas-docs/stable/user_guide/indexing.html#returning-a-view-versus-a-copy\n",
      "  df_emb[\"ANO\"] = pd.to_datetime(df_emb[\"DT_FIM_EXERC\"], format=\"%Y-%m-%d\").dt.year\n"
     ]
    },
    {
     "name": "stdout",
     "output_type": "stream",
     "text": [
      "   ↳ Extraindo dfp_cia_aberta_DRE_con_2024.csv para DRE, ano 2024\n",
      "   ↳ Extraindo dfp_cia_aberta_DFC_MI_con_2024.csv para DFC, ano 2024\n"
     ]
    },
    {
     "name": "stderr",
     "output_type": "stream",
     "text": [
      "C:\\Users\\Madu\\AppData\\Local\\Temp\\ipykernel_16956\\355045126.py:58: SettingWithCopyWarning: \n",
      "A value is trying to be set on a copy of a slice from a DataFrame.\n",
      "Try using .loc[row_indexer,col_indexer] = value instead\n",
      "\n",
      "See the caveats in the documentation: https://pandas.pydata.org/pandas-docs/stable/user_guide/indexing.html#returning-a-view-versus-a-copy\n",
      "  df_emb[\"ANO\"] = pd.to_datetime(df_emb[\"DT_FIM_EXERC\"], format=\"%Y-%m-%d\").dt.year\n"
     ]
    },
    {
     "name": "stdout",
     "output_type": "stream",
     "text": [
      "✅ Salvou saida\\Ativo_Embraer_2020-2024.csv\n",
      "✅ Salvou saida\\Passivo_Embraer_2020-2024.csv\n",
      "✅ Salvou saida\\DRE_Embraer_2020-2024.csv\n",
      "✅ Salvou saida\\DFC_Embraer_2020-2024.csv\n"
     ]
    }
   ],
   "source": [
    "# ===== Configurações =====\n",
    "ANOS = range(2021, 2025)  # 2020, 2021, 2022, 2023, 2024\n",
    "URL_BASE = \"https://dados.cvm.gov.br/dados/CIA_ABERTA/DOC/DFP/DADOS/dfp_cia_aberta_{}.zip\"\n",
    "EMPRESA = \"EMBRAER S.A.\"\n",
    "PASTA_ZIP = \"zips\"\n",
    "PASTA_SAIDA = \"saida\"\n",
    "\n",
    "# Nome-padrão dentro do zip para os demonstrativos consolidados\n",
    "DEMONSTRATIVOS = {\n",
    "    \"Ativo\": \"BPA_con\",\n",
    "    \"Passivo\": \"BPP_con\",\n",
    "    \"DRE\": \"DRE_con\",\n",
    "    \"DFC\": \"DFC_MI_con\"\n",
    "}\n",
    "\n",
    "os.makedirs(PASTA_ZIP, exist_ok=True)\n",
    "os.makedirs(PASTA_SAIDA, exist_ok=True)\n",
    "\n",
    "dfs = {nome: [] for nome in DEMONSTRATIVOS.keys()}\n",
    "\n",
    "for ano in ANOS:\n",
    "    print(f\"🔽 Baixando ano {ano}...\")\n",
    "    url = URL_BASE.format(ano)\n",
    "    resp = requests.get(url)\n",
    "    if resp.status_code != 200:\n",
    "        print(f\"❌ Não conseguiu baixar para o ano {ano}. Status: {resp.status_code}\")\n",
    "        continue\n",
    "\n",
    "    # Salvar zip localmente opcionalmente\n",
    "    caminho_zip = os.path.join(PASTA_ZIP, f\"dfp_cia_aberta_{ano}.zip\")\n",
    "    with open(caminho_zip, \"wb\") as f:\n",
    "        f.write(resp.content)\n",
    "    print(f\"✅ Zip salvo: {caminho_zip}\")\n",
    "\n",
    "    # Abrir zip em memória\n",
    "    with zipfile.ZipFile(io.BytesIO(resp.content)) as z:\n",
    "        nomes_zip = z.namelist()\n",
    "        for nome_dem, padrao in DEMONSTRATIVOS.items():\n",
    "            # encontrar arquivo CSV consolidado que contenha o padrão\n",
    "            # ex: “dfp_cia_aberta_BPA_con_2023.csv”\n",
    "            possiveis = [f for f in nomes_zip if padrao in f and f.endswith(\".csv\")]\n",
    "            if not possiveis:\n",
    "                print(f\"⚠️ Não achei arquivo {padrao} para ano {ano}\")\n",
    "                continue\n",
    "\n",
    "            nome_arq = possiveis[0]\n",
    "            print(f\"   ↳ Extraindo {nome_arq} para {nome_dem}, ano {ano}\")\n",
    "\n",
    "            with z.open(nome_arq) as arq:\n",
    "                # Ler CSV com encoding e separador certos; pode ajustar dependendo do CSV\n",
    "                df = pd.read_csv(arq, sep=\";\", encoding=\"latin1\", dtype=str)\n",
    "\n",
    "            # Filtrar para Embraer\n",
    "            df_emb = df[df[\"DENOM_CIA\"].str.strip().str.upper() == EMPRESA.upper()]\n",
    "            if df_emb.empty:\n",
    "                print(f\"      ‼️ Nenhum registro para Embraer no {nome_dem}, ano {ano}\")\n",
    "            else:\n",
    "                df_emb[\"ANO\"] = pd.to_datetime(df_emb[\"DT_FIM_EXERC\"], format=\"%Y-%m-%d\").dt.year\n",
    "                dfs[nome_dem].append(df_emb)\n",
    "\n",
    "for nome_dem, lista in dfs.items():\n",
    "    if not lista:\n",
    "        print(f\"⚠️ Sem dados para {nome_dem} nos anos especificados.\")\n",
    "        continue\n",
    "    df_total = pd.concat(lista, ignore_index=True)\n",
    "    caminho_saida = os.path.join(PASTA_SAIDA, f\"{nome_dem}_Embraer_2020-2024.csv\")\n",
    "    df_total.to_csv(caminho_saida, index=False, encoding=\"utf-8-sig\", sep=\";\")\n",
    "    print(f\"✅ Salvou {caminho_saida}\")\n"
   ]
  },
  {
   "cell_type": "code",
   "execution_count": 59,
   "id": "322b6344",
   "metadata": {},
   "outputs": [
    {
     "name": "stdout",
     "output_type": "stream",
     "text": [
      "📦 Salvou versão contabil: saida\\Ativo_contabil_2020-2024.csv\n",
      "📦 Salvou versão contabil: saida\\Passivo_contabil_2020-2024.csv\n",
      "📦 Salvou versão contabil: saida\\DRE_contabil_2020-2024.csv\n",
      "📦 Salvou versão contabil: saida\\DFC_contabil_2020-2024.csv\n"
     ]
    }
   ],
   "source": [
    "for nome_dem in DEMONSTRATIVOS.keys():\n",
    "    caminho = os.path.join(PASTA_SAIDA, f\"{nome_dem}_Embraer_2020-2024.csv\")\n",
    "    if not os.path.exists(caminho):\n",
    "        continue\n",
    "    df = pd.read_csv(caminho, sep=\";\", encoding=\"utf-8-sig\", dtype=str)\n",
    "    # Selecionar colunas relevantes (conferir futuramente)\n",
    "    df_sel = df[[\"CD_CONTA\", \"DS_CONTA\", \"ANO\", \"VL_CONTA\"]]\n",
    "    # Pivotar para ter anos como colunas\n",
    "    df_pivot = df_sel.pivot_table(index=[\"CD_CONTA\", \"DS_CONTA\"], \n",
    "                                  columns=\"ANO\", values=\"VL_CONTA\", aggfunc=\"first\").reset_index()\n",
    "    \n",
    "    novo = os.path.join(PASTA_SAIDA, f\"{nome_dem}_contabil_2020-2024.csv\")\n",
    "    df_pivot.to_csv(novo, index=False, encoding=\"utf-8-sig\", sep=\";\")\n",
    "    print(f\"📦 Salvou versão contabil: {novo}\")"
   ]
  },
  {
   "cell_type": "code",
   "execution_count": 60,
   "id": "3319cc03",
   "metadata": {},
   "outputs": [
    {
     "name": "stdout",
     "output_type": "stream",
     "text": [
      "✅ Arquivo Excel criado: Demonstrações_Embraer.xlsm\n"
     ]
    }
   ],
   "source": [
    "ARQUIVO_XLSM = \"Demonstrações_Embraer.xlsm\"\n",
    "\n",
    "arquivos = {\n",
    "    \"Ativo\": \"Ativo_Embraer_2020-2024.csv\",\n",
    "    \"Passivo\": \"Passivo_Embraer_2020-2024.csv\",\n",
    "    \"DRE\": \"DRE_Embraer_2020-2024.csv\",\n",
    "    \"DFC\": \"DFC_Embraer_2020-2024.csv\"\n",
    "}\n",
    "\n",
    "with pd.ExcelWriter(ARQUIVO_XLSM, engine=\"openpyxl\") as writer:\n",
    "    for aba, nome_arq in arquivos.items():\n",
    "        caminho = os.path.join(PASTA_SAIDA, nome_arq)\n",
    "        if not os.path.exists(caminho):\n",
    "            print(f\"⚠️ Arquivo não encontrado: {caminho}\")\n",
    "            continue\n",
    "\n",
    "        df = pd.read_csv(caminho, sep=\";\", encoding=\"utf-8-sig\")\n",
    "\n",
    "        # Pivotar: Conta x Ano\n",
    "        if \"CD_CONTA\" in df.columns and \"DS_CONTA\" in df.columns:\n",
    "            df[\"Conta\"] = df[\"CD_CONTA\"] + \" - \" + df[\"DS_CONTA\"]\n",
    "        else:\n",
    "            df[\"Conta\"] = df[\"DS_CONTA\"]\n",
    "\n",
    "        # Converter valores para numérico (quando possível)\n",
    "        df[\"VALOR\"] = pd.to_numeric(df[\"VL_CONTA\"], errors=\"coerce\")\n",
    "\n",
    "        tabela = df.pivot_table(\n",
    "            index=\"Conta\",\n",
    "            columns=\"ANO\",\n",
    "            values=\"VALOR\",\n",
    "            aggfunc=\"first\"\n",
    "        ).reset_index()\n",
    "\n",
    "        tabela.to_excel(writer, sheet_name=aba, index=False)\n",
    "\n",
    "print(f\"✅ Arquivo Excel criado: {ARQUIVO_XLSM}\")"
   ]
  },
  {
   "cell_type": "markdown",
   "id": "66690a98",
   "metadata": {},
   "source": [
    "### Correção monetária pelo IPCA para 2024\n",
    "O Balanço é uma foto da posição financeira da empresa em uma data específica. Ele representa saldos acumulados ou estoques de valor."
   ]
  },
  {
   "cell_type": "code",
   "execution_count": 61,
   "id": "66fafd83",
   "metadata": {},
   "outputs": [
    {
     "name": "stdout",
     "output_type": "stream",
     "text": [
      "\n",
      "Fatores de Correção para base 2024 - Balanço (Ativo/Passivo):\n",
      "  - Ano 2020: 1.2744\n",
      "  - Ano 2021: 1.1579\n",
      "  - Ano 2022: 1.0945\n",
      "  - Ano 2023: 1.0462\n",
      "  - Ano 2024: 1.0000\n"
     ]
    }
   ],
   "source": [
    "# IPCA anual acumulado (coletado no https://www.yahii.com.br/ipca.html)\n",
    "ipca = {\n",
    "    2020: 0.0452,\n",
    "    2021: 0.1006,\n",
    "    2022: 0.0579,\n",
    "    2023: 0.0462,\n",
    "    2024: 0.0462\n",
    "}\n",
    "\n",
    "# Calcular fatores de correção para base 2024\n",
    "fator_2024 = 1.0\n",
    "fator_2023 = (1 + ipca[2024])\n",
    "fator_2022 = (1 + ipca[2023]) * fator_2023\n",
    "fator_2021 = (1 + ipca[2022]) * fator_2022\n",
    "fator_2020 = (1 + ipca[2021]) * fator_2021\n",
    "\n",
    "fatores_balanco = {\n",
    "    2020: fator_2020,\n",
    "    2021: fator_2021,\n",
    "    2022: fator_2022,\n",
    "    2023: fator_2023,\n",
    "    2024: fator_2024\n",
    "}\n",
    "\n",
    "print(\"\\nFatores de Correção para base 2024 - Balanço (Ativo/Passivo):\")\n",
    "for ano, fator in fatores_balanco.items():\n",
    "    print(f\"  - Ano {ano}: {fator:.4f}\")\n"
   ]
  },
  {
   "cell_type": "markdown",
   "id": "8f98c1b0",
   "metadata": {},
   "source": [
    "#### Taxa média geométrica para inflação iquida e índices do DRE e do DFC (2020-2024)\n",
    "A receita de janeiro foi gerada com um poder de compra diferente da de dezembro, então é preciso corrigir.\n",
    "Para corrigir isso, é preciso de uma taxa que represente a inflação média que incidiu sobre os fluxos ao longo do ano. A média geométrica é a forma matematicamente correta de encontrar essa taxa média para juros compostos (que é o caso da inflação)."
   ]
  },
  {
   "cell_type": "code",
   "execution_count": 62,
   "id": "84c27e68",
   "metadata": {},
   "outputs": [
    {
     "name": "stdout",
     "output_type": "stream",
     "text": [
      "--- Calculando Taxas Médias Geométricas Mensais ---\n",
      "  - Taxa Média Geométrica de 2020: 0.003689 (ou 0.3689%)\n",
      "  - Taxa Média Geométrica de 2021: 0.008021 (ou 0.8021%)\n",
      "  - Taxa Média Geométrica de 2022: 0.004697 (ou 0.4697%)\n",
      "  - Taxa Média Geométrica de 2023: 0.003772 (ou 0.3772%)\n",
      "\n",
      "Fatores para DRE e DFC (Fluxos):\n",
      "  - Ano 2020: 1.1622\n",
      "  - Ano 2021: 1.1033\n",
      "  - Ano 2022: 1.0511\n",
      "  - Ano 2023: 1.0501\n",
      "  - Ano 2024: 1.0000\n"
     ]
    }
   ],
   "source": [
    "# Taxa média geométrica para inflação iquida e índices\n",
    "# IPCA mensal (coletado no https://www.yahii.com.br/ipca.html)\n",
    "ipca_mensal = {\n",
    "    2020: [0.0021, 0.0025, 0.0007, -0.0031, -0.0038, 0.0026, 0.0036, 0.0024, 0.0064, 0.0086, 0.0089, 0.0135],\n",
    "    2021: [0.0025, 0.0086, 0.0093, 0.0031, 0.0083, 0.0053, 0.0096, 0.0087, 0.0116, 0.0125, 0.0095, 0.0073],\n",
    "    2022: [0.0054, 0.0101, 0.0162, 0.0106, 0.0047, 0.0067, -0.0068, -0.0036, -0.0029, 0.0059, 0.0041, 0.0062],\n",
    "    2023: [0.0053, 0.0084, 0.0071, 0.0061, 0.0023, -0.0008, 0.0012, 0.0023, 0.0026, 0.0024, 0.0028, 0.0056]\n",
    "}\n",
    "\n",
    "print(\"--- Calculando Taxas Médias Geométricas Mensais ---\")\n",
    "taxas_medias_geometricas = {}\n",
    "\n",
    "for ano, taxas_mensais in ipca_mensal.items():\n",
    "    # A fórmula é: (produto de (1 + i_mês))^(1/12) - 1\n",
    "    produto_acumulado = np.prod([1 + taxa for taxa in taxas_mensais])\n",
    "    taxa_media = (produto_acumulado ** (1/12)) - 1\n",
    "    taxas_medias_geometricas[ano] = taxa_media\n",
    "    print(f\"  - Taxa Média Geométrica de {ano}: {taxa_media:.6f} (ou {taxa_media*100:.4f}%)\")\n",
    "\n",
    "# Fatores para DRE e DFC - Baseados na taxa média geométrica + inflação cheia dos anos seguintes\n",
    "fatores_fluxo = {\n",
    "    2024: 1.0, # Ano base, não tem correção\n",
    "    2023: (1 + taxas_medias_geometricas[2023]) * (1 + ipca[2024]),\n",
    "    2022: (1 + taxas_medias_geometricas[2022]) * fator_2023,\n",
    "    2021: (1 + taxas_medias_geometricas[2021]) * fator_2022,\n",
    "    2020: (1 + taxas_medias_geometricas[2020]) * fator_2021\n",
    "}\n",
    "\n",
    "print(\"\\nFatores para DRE e DFC (Fluxos):\")\n",
    "for ano, fator in sorted(fatores_fluxo.items()):\n",
    "    print(f\"  - Ano {ano}: {fator:.4f}\")\n"
   ]
  },
  {
   "cell_type": "code",
   "execution_count": null,
   "id": "3c358258",
   "metadata": {},
   "outputs": [
    {
     "data": {
      "text/plain": [
       "'\\n# Aplicar a correção a cada arquivo na pasta \"saida\"\\nfor nome_arq in os.listdir(PASTA_SAIDA):\\n    if not nome_arq.lower().endswith(\\'.csv\\'):\\n        continue\\n\\n    caminho = os.path.join(PASTA_SAIDA, nome_arq)\\n    df = pd.read_csv(caminho, sep=\";\", encoding=\"utf-8-sig\")\\n    nome_upper = nome_arq.upper()\\n\\n    # Escolher o conjunto de fatores\\n    if \"ATIVO\" in nome_upper or \"PASSIVO\" in nome_upper:\\n        fatores_usados = fatores_balanco\\n        tipo = \"Balanço\"\\n    elif \"DRE\" in nome_upper or \"DFC\" in nome_upper:\\n        fatores_usados = fatores_fluxo\\n        tipo = \"Fluxo\"\\n    else:\\n        print(f\"⚠️  Arquivo ignorado (tipo não identificado): {nome_arq}\")\\n        continue\\n\\n    if \"ANO\" in df.columns and \"VL_CONTA\" in df.columns:\\n        df[\"VALOR_CORRIGIDO_2024\"] = df.apply( lambda x: pd.to_numeric(x[\"VL_CONTA\"], errors=\"coerce\") * fatores_usados.get(int(x[\"ANO\"]), 1), axis=1 )\\n\\n# Salvar com os valores corrigidos\\nnome_corrigido = nome_arq.replace(\".csv\", \"_corrigido_2024.csv\")\\ndf.to_csv(os.path.join(PASTA_SAIDA, nome_corrigido), sep=\";\", encoding=\"utf-8-sig\", index=False)\\nprint(f\"✅ Corrigido e salvo: {nome_corrigido}\")\\n\\n'"
      ]
     },
     "execution_count": 52,
     "metadata": {},
     "output_type": "execute_result"
    }
   ],
   "source": [
    "'''\n",
    "# Aplicar a correção a cada arquivo na pasta \"saida\"\n",
    "for nome_arq in os.listdir(PASTA_SAIDA):\n",
    "    if not nome_arq.lower().endswith('.csv'):\n",
    "        continue\n",
    "    \n",
    "    caminho = os.path.join(PASTA_SAIDA, nome_arq)\n",
    "    df = pd.read_csv(caminho, sep=\";\", encoding=\"utf-8-sig\")\n",
    "    nome_upper = nome_arq.upper()\n",
    "\n",
    "    # Escolher o conjunto de fatores\n",
    "    if \"ATIVO\" in nome_upper or \"PASSIVO\" in nome_upper:\n",
    "        fatores_usados = fatores_balanco\n",
    "        tipo = \"Balanço\"\n",
    "    elif \"DRE\" in nome_upper or \"DFC\" in nome_upper:\n",
    "        fatores_usados = fatores_fluxo\n",
    "        tipo = \"Fluxo\"\n",
    "    else:\n",
    "        print(f\"⚠️  Arquivo ignorado (tipo não identificado): {nome_arq}\")\n",
    "        continue\n",
    "\n",
    "    if \"ANO\" in df.columns and \"VL_CONTA\" in df.columns:\n",
    "        df[\"VALOR_CORRIGIDO_2024\"] = df.apply( lambda x: pd.to_numeric(x[\"VL_CONTA\"], errors=\"coerce\") * fatores_usados.get(int(x[\"ANO\"]), 1), axis=1 )\n",
    "            \n",
    "# Salvar com os valores corrigidos\n",
    "nome_corrigido = nome_arq.replace(\".csv\", \"_corrigido_2024.csv\")\n",
    "df.to_csv(os.path.join(PASTA_SAIDA, nome_corrigido), sep=\";\", encoding=\"utf-8-sig\", index=False)\n",
    "print(f\"✅ Corrigido e salvo: {nome_corrigido}\")\n",
    "\n",
    "'''"
   ]
  },
  {
   "cell_type": "code",
   "execution_count": 63,
   "id": "f81d7292",
   "metadata": {},
   "outputs": [
    {
     "name": "stdout",
     "output_type": "stream",
     "text": [
      "-> Processando: saida\\Ativo_Embraer_2020-2024.csv\n",
      "   Tipo: Balanço. Usando fatores de balanço.\n",
      "   Correção pela inflação aplicada.\n",
      "✅ Salvo com sucesso como: Ativo_Embraer_2020-2024_corrigido_2024.csv\n",
      "\n",
      "-> Processando: saida\\Passivo_Embraer_2020-2024.csv\n",
      "   Tipo: Balanço. Usando fatores de balanço.\n",
      "   Correção pela inflação aplicada.\n",
      "✅ Salvo com sucesso como: Passivo_Embraer_2020-2024_corrigido_2024.csv\n",
      "\n",
      "-> Processando: saida\\DRE_Embraer_2020-2024.csv\n",
      "   Tipo: Fluxo. Usando fatores de fluxo.\n",
      "   Correção pela inflação aplicada.\n",
      "✅ Salvo com sucesso como: DRE_Embraer_2020-2024_corrigido_2024.csv\n",
      "\n",
      "-> Processando: saida\\DFC_Embraer_2020-2024.csv\n",
      "   Tipo: Fluxo. Usando fatores de fluxo.\n",
      "   Correção pela inflação aplicada.\n",
      "✅ Salvo com sucesso como: DFC_Embraer_2020-2024_corrigido_2024.csv\n",
      "\n",
      "--- Processo finalizado. ---\n"
     ]
    }
   ],
   "source": [
    "# Aplicar a correção a cada arquivo na pasta \"saida\"\n",
    "\n",
    "for nome_dem in DEMONSTRATIVOS.keys():\n",
    "    caminho_entrada = os.path.join(PASTA_SAIDA, f\"{nome_dem}_Embraer_2020-2024.csv\")\n",
    "    \n",
    "    if not os.path.exists(caminho_entrada):\n",
    "        print(f\"AVISO: Arquivo de entrada não encontrado, pulando: {caminho_entrada}\")\n",
    "        continue\n",
    "    \n",
    "    print(f\"-> Processando: {caminho_entrada}\")\n",
    "    df = pd.read_csv(caminho_entrada, sep=\";\", encoding=\"utf-8-sig\")\n",
    "    \n",
    "    # --- 1. ESCOLHER O FATOR DE CORREÇÃO ---\n",
    "    if nome_dem in [\"Ativo\", \"Passivo\"]:\n",
    "        fatores_usados = fatores_balanco\n",
    "        print(\"   Tipo: Balanço. Usando fatores de balanço.\")\n",
    "    else: # DRE e DFC\n",
    "        fatores_usados = fatores_fluxo\n",
    "        print(\"   Tipo: Fluxo. Usando fatores de fluxo.\")\n",
    "        \n",
    "    # --- 2. APLICAR A CORREÇÃO (ANTES DE PIVOTAR) ---\n",
    "    df['VL_CONTA'] = pd.to_numeric(df['VL_CONTA'], errors='coerce')\n",
    "    df['ANO'] = pd.to_numeric(df['ANO'], errors='coerce').fillna(0).astype(int)\n",
    "    \n",
    "    df['VALOR_AJUSTADO'] = df.apply(\n",
    "        lambda linha: linha['VL_CONTA'] * fatores_usados.get(linha['ANO'], 1.0),\n",
    "        axis=1\n",
    "    )\n",
    "    print(\"   Correção pela inflação aplicada.\")\n",
    "    \n",
    "    nome_corrigido = f\"{nome_dem}_Embraer_2020-2024_corrigido_2024.csv\"\n",
    "    caminho_saida = os.path.join(PASTA_SAIDA, nome_corrigido)\n",
    "    \n",
    "    df.to_csv(caminho_saida, sep=\";\", encoding=\"utf-8-sig\", index=False)\n",
    "    print(f\"✅ Salvo com sucesso como: {nome_corrigido}\\n\")\n",
    "    \n",
    "print(\"--- Processo finalizado. ---\")"
   ]
  },
  {
   "cell_type": "markdown",
   "id": "30cf23c5",
   "metadata": {},
   "source": [
    "### Após correção com o IPCA de 2024\n"
   ]
  },
  {
   "cell_type": "code",
   "execution_count": 66,
   "id": "a3dc0d82",
   "metadata": {},
   "outputs": [
    {
     "name": "stdout",
     "output_type": "stream",
     "text": [
      "Arquivo Excel final criado com sucesso: Demonstrações_Embraer_Ajustado.xlsm\n",
      "Todas as guias foram corrigidas e consolidadas com base no IPCA de 2024.\n"
     ]
    }
   ],
   "source": [
    "ARQUIVO_XLSM = \"Demonstrações_Embraer_Ajustado.xlsm\"\n",
    "\n",
    "arquivos_corrigidos = {\n",
    "    \"Ativo\": \"Ativo_Embraer_2020-2024_corrigido_2024.csv\",\n",
    "    \"Passivo\": \"Passivo_Embraer_2020-2024_corrigido_2024.csv\",\n",
    "    \"DRE\": \"DRE_Embraer_2020-2024_corrigido_2024.csv\",\n",
    "    \"DFC\": \"DFC_Embraer_2020-2024_corrigido_2024.csv\"\n",
    "}\n",
    "\n",
    "with pd.ExcelWriter(ARQUIVO_XLSM, engine=\"openpyxl\") as writer:\n",
    "    for aba, nome_arq in arquivos_corrigidos.items():\n",
    "        caminho = os.path.join(PASTA_SAIDA, nome_arq)\n",
    "        if not os.path.exists(caminho):\n",
    "            print(f\"⚠️ Arquivo não encontrado: {caminho}\")\n",
    "            continue\n",
    "\n",
    "        df = pd.read_csv(caminho, sep=\";\", encoding=\"utf-8-sig\")\n",
    "\n",
    "        # Converte valores corrigidos para numérico\n",
    "        df[\"VALOR_AJUSTADO\"] = pd.to_numeric(df[\"VALOR_AJUSTADO\"], errors=\"coerce\")\n",
    "\n",
    "        # Pivotar: Conta x Ano (com valores já corrigidos)\n",
    "        tabela_corrigida = df.pivot_table(\n",
    "            index=[\"CD_CONTA\", \"DS_CONTA\"],\n",
    "            columns=\"ANO\",\n",
    "            values=\"VALOR_AJUSTADO\",\n",
    "            aggfunc=\"first\"\n",
    "        ).reset_index()\n",
    "\n",
    "        # Exporta cada aba para o Excel\n",
    "        tabela_corrigida = tabela_corrigida.sort_values(by=\"CD_CONTA\")\n",
    "        tabela_corrigida.to_excel(writer, sheet_name=aba, index=False)\n",
    "\n",
    "print(f\"Arquivo Excel final criado com sucesso: {ARQUIVO_XLSM}\")\n",
    "print(\"Todas as guias foram corrigidas e consolidadas com base no IPCA de 2024.\")\n"
   ]
  }
 ],
 "metadata": {
  "kernelspec": {
   "display_name": "Python 3",
   "language": "python",
   "name": "python3"
  },
  "language_info": {
   "codemirror_mode": {
    "name": "ipython",
    "version": 3
   },
   "file_extension": ".py",
   "mimetype": "text/x-python",
   "name": "python",
   "nbconvert_exporter": "python",
   "pygments_lexer": "ipython3",
   "version": "3.13.7"
  }
 },
 "nbformat": 4,
 "nbformat_minor": 5
}
