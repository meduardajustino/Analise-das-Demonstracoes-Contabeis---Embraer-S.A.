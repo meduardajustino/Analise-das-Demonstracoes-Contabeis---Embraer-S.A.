{
 "cells": [
  {
   "cell_type": "markdown",
   "id": "25f85113",
   "metadata": {},
   "source": [
    "### Baixar as DFPs (2019–2023) da Embraer em XBRL diretamente do site da CVM"
   ]
  },
  {
   "cell_type": "code",
   "execution_count": 2,
   "id": "8585fc75",
   "metadata": {},
   "outputs": [],
   "source": [
    "# bibliotecas importadas\n",
    "import requests\n",
    "import zipfile\n",
    "import os\n",
    "import pandas as pd\n",
    "import io"
   ]
  },
  {
   "cell_type": "code",
   "execution_count": 4,
   "id": "18adbda4",
   "metadata": {},
   "outputs": [
    {
     "name": "stdout",
     "output_type": "stream",
     "text": [
      "🔽 Baixando ano 2020...\n",
      "✅ Zip salvo: zips\\dfp_cia_aberta_2020.zip\n",
      "   ↳ Extraindo dfp_cia_aberta_BPA_con_2020.csv para Ativo, ano 2020\n"
     ]
    },
    {
     "name": "stderr",
     "output_type": "stream",
     "text": [
      "C:\\Users\\Maria Eduarda\\AppData\\Local\\Temp\\ipykernel_6668\\59865357.py:62: SettingWithCopyWarning: \n",
      "A value is trying to be set on a copy of a slice from a DataFrame.\n",
      "Try using .loc[row_indexer,col_indexer] = value instead\n",
      "\n",
      "See the caveats in the documentation: https://pandas.pydata.org/pandas-docs/stable/user_guide/indexing.html#returning-a-view-versus-a-copy\n",
      "  df_emb[\"ANO\"] = ano\n"
     ]
    },
    {
     "name": "stdout",
     "output_type": "stream",
     "text": [
      "   ↳ Extraindo dfp_cia_aberta_BPP_con_2020.csv para Passivo, ano 2020\n"
     ]
    },
    {
     "name": "stderr",
     "output_type": "stream",
     "text": [
      "C:\\Users\\Maria Eduarda\\AppData\\Local\\Temp\\ipykernel_6668\\59865357.py:62: SettingWithCopyWarning: \n",
      "A value is trying to be set on a copy of a slice from a DataFrame.\n",
      "Try using .loc[row_indexer,col_indexer] = value instead\n",
      "\n",
      "See the caveats in the documentation: https://pandas.pydata.org/pandas-docs/stable/user_guide/indexing.html#returning-a-view-versus-a-copy\n",
      "  df_emb[\"ANO\"] = ano\n"
     ]
    },
    {
     "name": "stdout",
     "output_type": "stream",
     "text": [
      "   ↳ Extraindo dfp_cia_aberta_DRE_con_2020.csv para DRE, ano 2020\n"
     ]
    },
    {
     "name": "stderr",
     "output_type": "stream",
     "text": [
      "C:\\Users\\Maria Eduarda\\AppData\\Local\\Temp\\ipykernel_6668\\59865357.py:62: SettingWithCopyWarning: \n",
      "A value is trying to be set on a copy of a slice from a DataFrame.\n",
      "Try using .loc[row_indexer,col_indexer] = value instead\n",
      "\n",
      "See the caveats in the documentation: https://pandas.pydata.org/pandas-docs/stable/user_guide/indexing.html#returning-a-view-versus-a-copy\n",
      "  df_emb[\"ANO\"] = ano\n"
     ]
    },
    {
     "name": "stdout",
     "output_type": "stream",
     "text": [
      "   ↳ Extraindo dfp_cia_aberta_DFC_MI_con_2020.csv para DFC, ano 2020\n"
     ]
    },
    {
     "name": "stderr",
     "output_type": "stream",
     "text": [
      "C:\\Users\\Maria Eduarda\\AppData\\Local\\Temp\\ipykernel_6668\\59865357.py:62: SettingWithCopyWarning: \n",
      "A value is trying to be set on a copy of a slice from a DataFrame.\n",
      "Try using .loc[row_indexer,col_indexer] = value instead\n",
      "\n",
      "See the caveats in the documentation: https://pandas.pydata.org/pandas-docs/stable/user_guide/indexing.html#returning-a-view-versus-a-copy\n",
      "  df_emb[\"ANO\"] = ano\n"
     ]
    },
    {
     "name": "stdout",
     "output_type": "stream",
     "text": [
      "🔽 Baixando ano 2021...\n",
      "✅ Zip salvo: zips\\dfp_cia_aberta_2021.zip\n",
      "   ↳ Extraindo dfp_cia_aberta_BPA_con_2021.csv para Ativo, ano 2021\n"
     ]
    },
    {
     "name": "stderr",
     "output_type": "stream",
     "text": [
      "C:\\Users\\Maria Eduarda\\AppData\\Local\\Temp\\ipykernel_6668\\59865357.py:62: SettingWithCopyWarning: \n",
      "A value is trying to be set on a copy of a slice from a DataFrame.\n",
      "Try using .loc[row_indexer,col_indexer] = value instead\n",
      "\n",
      "See the caveats in the documentation: https://pandas.pydata.org/pandas-docs/stable/user_guide/indexing.html#returning-a-view-versus-a-copy\n",
      "  df_emb[\"ANO\"] = ano\n"
     ]
    },
    {
     "name": "stdout",
     "output_type": "stream",
     "text": [
      "   ↳ Extraindo dfp_cia_aberta_BPP_con_2021.csv para Passivo, ano 2021\n"
     ]
    },
    {
     "name": "stderr",
     "output_type": "stream",
     "text": [
      "C:\\Users\\Maria Eduarda\\AppData\\Local\\Temp\\ipykernel_6668\\59865357.py:62: SettingWithCopyWarning: \n",
      "A value is trying to be set on a copy of a slice from a DataFrame.\n",
      "Try using .loc[row_indexer,col_indexer] = value instead\n",
      "\n",
      "See the caveats in the documentation: https://pandas.pydata.org/pandas-docs/stable/user_guide/indexing.html#returning-a-view-versus-a-copy\n",
      "  df_emb[\"ANO\"] = ano\n"
     ]
    },
    {
     "name": "stdout",
     "output_type": "stream",
     "text": [
      "   ↳ Extraindo dfp_cia_aberta_DRE_con_2021.csv para DRE, ano 2021\n"
     ]
    },
    {
     "name": "stderr",
     "output_type": "stream",
     "text": [
      "C:\\Users\\Maria Eduarda\\AppData\\Local\\Temp\\ipykernel_6668\\59865357.py:62: SettingWithCopyWarning: \n",
      "A value is trying to be set on a copy of a slice from a DataFrame.\n",
      "Try using .loc[row_indexer,col_indexer] = value instead\n",
      "\n",
      "See the caveats in the documentation: https://pandas.pydata.org/pandas-docs/stable/user_guide/indexing.html#returning-a-view-versus-a-copy\n",
      "  df_emb[\"ANO\"] = ano\n"
     ]
    },
    {
     "name": "stdout",
     "output_type": "stream",
     "text": [
      "   ↳ Extraindo dfp_cia_aberta_DFC_MI_con_2021.csv para DFC, ano 2021\n"
     ]
    },
    {
     "name": "stderr",
     "output_type": "stream",
     "text": [
      "C:\\Users\\Maria Eduarda\\AppData\\Local\\Temp\\ipykernel_6668\\59865357.py:62: SettingWithCopyWarning: \n",
      "A value is trying to be set on a copy of a slice from a DataFrame.\n",
      "Try using .loc[row_indexer,col_indexer] = value instead\n",
      "\n",
      "See the caveats in the documentation: https://pandas.pydata.org/pandas-docs/stable/user_guide/indexing.html#returning-a-view-versus-a-copy\n",
      "  df_emb[\"ANO\"] = ano\n"
     ]
    },
    {
     "name": "stdout",
     "output_type": "stream",
     "text": [
      "🔽 Baixando ano 2022...\n",
      "✅ Zip salvo: zips\\dfp_cia_aberta_2022.zip\n",
      "   ↳ Extraindo dfp_cia_aberta_BPA_con_2022.csv para Ativo, ano 2022\n"
     ]
    },
    {
     "name": "stderr",
     "output_type": "stream",
     "text": [
      "C:\\Users\\Maria Eduarda\\AppData\\Local\\Temp\\ipykernel_6668\\59865357.py:62: SettingWithCopyWarning: \n",
      "A value is trying to be set on a copy of a slice from a DataFrame.\n",
      "Try using .loc[row_indexer,col_indexer] = value instead\n",
      "\n",
      "See the caveats in the documentation: https://pandas.pydata.org/pandas-docs/stable/user_guide/indexing.html#returning-a-view-versus-a-copy\n",
      "  df_emb[\"ANO\"] = ano\n"
     ]
    },
    {
     "name": "stdout",
     "output_type": "stream",
     "text": [
      "   ↳ Extraindo dfp_cia_aberta_BPP_con_2022.csv para Passivo, ano 2022\n"
     ]
    },
    {
     "name": "stderr",
     "output_type": "stream",
     "text": [
      "C:\\Users\\Maria Eduarda\\AppData\\Local\\Temp\\ipykernel_6668\\59865357.py:62: SettingWithCopyWarning: \n",
      "A value is trying to be set on a copy of a slice from a DataFrame.\n",
      "Try using .loc[row_indexer,col_indexer] = value instead\n",
      "\n",
      "See the caveats in the documentation: https://pandas.pydata.org/pandas-docs/stable/user_guide/indexing.html#returning-a-view-versus-a-copy\n",
      "  df_emb[\"ANO\"] = ano\n"
     ]
    },
    {
     "name": "stdout",
     "output_type": "stream",
     "text": [
      "   ↳ Extraindo dfp_cia_aberta_DRE_con_2022.csv para DRE, ano 2022\n"
     ]
    },
    {
     "name": "stderr",
     "output_type": "stream",
     "text": [
      "C:\\Users\\Maria Eduarda\\AppData\\Local\\Temp\\ipykernel_6668\\59865357.py:62: SettingWithCopyWarning: \n",
      "A value is trying to be set on a copy of a slice from a DataFrame.\n",
      "Try using .loc[row_indexer,col_indexer] = value instead\n",
      "\n",
      "See the caveats in the documentation: https://pandas.pydata.org/pandas-docs/stable/user_guide/indexing.html#returning-a-view-versus-a-copy\n",
      "  df_emb[\"ANO\"] = ano\n"
     ]
    },
    {
     "name": "stdout",
     "output_type": "stream",
     "text": [
      "   ↳ Extraindo dfp_cia_aberta_DFC_MI_con_2022.csv para DFC, ano 2022\n"
     ]
    },
    {
     "name": "stderr",
     "output_type": "stream",
     "text": [
      "C:\\Users\\Maria Eduarda\\AppData\\Local\\Temp\\ipykernel_6668\\59865357.py:62: SettingWithCopyWarning: \n",
      "A value is trying to be set on a copy of a slice from a DataFrame.\n",
      "Try using .loc[row_indexer,col_indexer] = value instead\n",
      "\n",
      "See the caveats in the documentation: https://pandas.pydata.org/pandas-docs/stable/user_guide/indexing.html#returning-a-view-versus-a-copy\n",
      "  df_emb[\"ANO\"] = ano\n"
     ]
    },
    {
     "name": "stdout",
     "output_type": "stream",
     "text": [
      "🔽 Baixando ano 2023...\n",
      "✅ Zip salvo: zips\\dfp_cia_aberta_2023.zip\n",
      "   ↳ Extraindo dfp_cia_aberta_BPA_con_2023.csv para Ativo, ano 2023\n"
     ]
    },
    {
     "name": "stderr",
     "output_type": "stream",
     "text": [
      "C:\\Users\\Maria Eduarda\\AppData\\Local\\Temp\\ipykernel_6668\\59865357.py:62: SettingWithCopyWarning: \n",
      "A value is trying to be set on a copy of a slice from a DataFrame.\n",
      "Try using .loc[row_indexer,col_indexer] = value instead\n",
      "\n",
      "See the caveats in the documentation: https://pandas.pydata.org/pandas-docs/stable/user_guide/indexing.html#returning-a-view-versus-a-copy\n",
      "  df_emb[\"ANO\"] = ano\n"
     ]
    },
    {
     "name": "stdout",
     "output_type": "stream",
     "text": [
      "   ↳ Extraindo dfp_cia_aberta_BPP_con_2023.csv para Passivo, ano 2023\n"
     ]
    },
    {
     "name": "stderr",
     "output_type": "stream",
     "text": [
      "C:\\Users\\Maria Eduarda\\AppData\\Local\\Temp\\ipykernel_6668\\59865357.py:62: SettingWithCopyWarning: \n",
      "A value is trying to be set on a copy of a slice from a DataFrame.\n",
      "Try using .loc[row_indexer,col_indexer] = value instead\n",
      "\n",
      "See the caveats in the documentation: https://pandas.pydata.org/pandas-docs/stable/user_guide/indexing.html#returning-a-view-versus-a-copy\n",
      "  df_emb[\"ANO\"] = ano\n"
     ]
    },
    {
     "name": "stdout",
     "output_type": "stream",
     "text": [
      "   ↳ Extraindo dfp_cia_aberta_DRE_con_2023.csv para DRE, ano 2023\n"
     ]
    },
    {
     "name": "stderr",
     "output_type": "stream",
     "text": [
      "C:\\Users\\Maria Eduarda\\AppData\\Local\\Temp\\ipykernel_6668\\59865357.py:62: SettingWithCopyWarning: \n",
      "A value is trying to be set on a copy of a slice from a DataFrame.\n",
      "Try using .loc[row_indexer,col_indexer] = value instead\n",
      "\n",
      "See the caveats in the documentation: https://pandas.pydata.org/pandas-docs/stable/user_guide/indexing.html#returning-a-view-versus-a-copy\n",
      "  df_emb[\"ANO\"] = ano\n"
     ]
    },
    {
     "name": "stdout",
     "output_type": "stream",
     "text": [
      "   ↳ Extraindo dfp_cia_aberta_DFC_MI_con_2023.csv para DFC, ano 2023\n"
     ]
    },
    {
     "name": "stderr",
     "output_type": "stream",
     "text": [
      "C:\\Users\\Maria Eduarda\\AppData\\Local\\Temp\\ipykernel_6668\\59865357.py:62: SettingWithCopyWarning: \n",
      "A value is trying to be set on a copy of a slice from a DataFrame.\n",
      "Try using .loc[row_indexer,col_indexer] = value instead\n",
      "\n",
      "See the caveats in the documentation: https://pandas.pydata.org/pandas-docs/stable/user_guide/indexing.html#returning-a-view-versus-a-copy\n",
      "  df_emb[\"ANO\"] = ano\n"
     ]
    },
    {
     "name": "stdout",
     "output_type": "stream",
     "text": [
      "🔽 Baixando ano 2024...\n",
      "✅ Zip salvo: zips\\dfp_cia_aberta_2024.zip\n",
      "   ↳ Extraindo dfp_cia_aberta_BPA_con_2024.csv para Ativo, ano 2024\n"
     ]
    },
    {
     "name": "stderr",
     "output_type": "stream",
     "text": [
      "C:\\Users\\Maria Eduarda\\AppData\\Local\\Temp\\ipykernel_6668\\59865357.py:62: SettingWithCopyWarning: \n",
      "A value is trying to be set on a copy of a slice from a DataFrame.\n",
      "Try using .loc[row_indexer,col_indexer] = value instead\n",
      "\n",
      "See the caveats in the documentation: https://pandas.pydata.org/pandas-docs/stable/user_guide/indexing.html#returning-a-view-versus-a-copy\n",
      "  df_emb[\"ANO\"] = ano\n"
     ]
    },
    {
     "name": "stdout",
     "output_type": "stream",
     "text": [
      "   ↳ Extraindo dfp_cia_aberta_BPP_con_2024.csv para Passivo, ano 2024\n"
     ]
    },
    {
     "name": "stderr",
     "output_type": "stream",
     "text": [
      "C:\\Users\\Maria Eduarda\\AppData\\Local\\Temp\\ipykernel_6668\\59865357.py:62: SettingWithCopyWarning: \n",
      "A value is trying to be set on a copy of a slice from a DataFrame.\n",
      "Try using .loc[row_indexer,col_indexer] = value instead\n",
      "\n",
      "See the caveats in the documentation: https://pandas.pydata.org/pandas-docs/stable/user_guide/indexing.html#returning-a-view-versus-a-copy\n",
      "  df_emb[\"ANO\"] = ano\n"
     ]
    },
    {
     "name": "stdout",
     "output_type": "stream",
     "text": [
      "   ↳ Extraindo dfp_cia_aberta_DRE_con_2024.csv para DRE, ano 2024\n"
     ]
    },
    {
     "name": "stderr",
     "output_type": "stream",
     "text": [
      "C:\\Users\\Maria Eduarda\\AppData\\Local\\Temp\\ipykernel_6668\\59865357.py:62: SettingWithCopyWarning: \n",
      "A value is trying to be set on a copy of a slice from a DataFrame.\n",
      "Try using .loc[row_indexer,col_indexer] = value instead\n",
      "\n",
      "See the caveats in the documentation: https://pandas.pydata.org/pandas-docs/stable/user_guide/indexing.html#returning-a-view-versus-a-copy\n",
      "  df_emb[\"ANO\"] = ano\n"
     ]
    },
    {
     "name": "stdout",
     "output_type": "stream",
     "text": [
      "   ↳ Extraindo dfp_cia_aberta_DFC_MI_con_2024.csv para DFC, ano 2024\n"
     ]
    },
    {
     "name": "stderr",
     "output_type": "stream",
     "text": [
      "C:\\Users\\Maria Eduarda\\AppData\\Local\\Temp\\ipykernel_6668\\59865357.py:62: SettingWithCopyWarning: \n",
      "A value is trying to be set on a copy of a slice from a DataFrame.\n",
      "Try using .loc[row_indexer,col_indexer] = value instead\n",
      "\n",
      "See the caveats in the documentation: https://pandas.pydata.org/pandas-docs/stable/user_guide/indexing.html#returning-a-view-versus-a-copy\n",
      "  df_emb[\"ANO\"] = ano\n"
     ]
    },
    {
     "name": "stdout",
     "output_type": "stream",
     "text": [
      "✅ Salvou saida\\Ativo_Embraer_2020-2024.csv\n",
      "✅ Salvou saida\\Passivo_Embraer_2020-2024.csv\n",
      "✅ Salvou saida\\DRE_Embraer_2020-2024.csv\n",
      "✅ Salvou saida\\DFC_Embraer_2020-2024.csv\n"
     ]
    }
   ],
   "source": [
    "# ===== Configurações =====\n",
    "ANOS = range(2020, 2025)  # 2020, 2021, 2022, 2023, 2024\n",
    "URL_BASE = \"https://dados.cvm.gov.br/dados/CIA_ABERTA/DOC/DFP/DADOS/dfp_cia_aberta_{}.zip\"\n",
    "EMPRESA = \"EMBRAER S.A.\"\n",
    "PASTA_ZIP = \"zips\"\n",
    "PASTA_SAIDA = \"saida\"\n",
    "\n",
    "# Nome-padrão dentro do zip para os demonstrativos consolidados\n",
    "DEMONSTRATIVOS = {\n",
    "    \"Ativo\": \"BPA_con\",\n",
    "    \"Passivo\": \"BPP_con\",\n",
    "    \"DRE\": \"DRE_con\",\n",
    "    \"DFC\": \"DFC_MI_con\"\n",
    "}\n",
    "\n",
    "# Criar pastas se não existirem\n",
    "os.makedirs(PASTA_ZIP, exist_ok=True)\n",
    "os.makedirs(PASTA_SAIDA, exist_ok=True)\n",
    "\n",
    "# Dicionário para acumular DataFrames por demonstração\n",
    "dfs = {nome: [] for nome in DEMONSTRATIVOS.keys()}\n",
    "\n",
    "for ano in ANOS:\n",
    "    print(f\"🔽 Baixando ano {ano}...\")\n",
    "    url = URL_BASE.format(ano)\n",
    "    resp = requests.get(url)\n",
    "    if resp.status_code != 200:\n",
    "        print(f\"❌ Não conseguiu baixar para o ano {ano}. Status: {resp.status_code}\")\n",
    "        continue\n",
    "\n",
    "    # Salvar zip localmente opcionalmente\n",
    "    caminho_zip = os.path.join(PASTA_ZIP, f\"dfp_cia_aberta_{ano}.zip\")\n",
    "    with open(caminho_zip, \"wb\") as f:\n",
    "        f.write(resp.content)\n",
    "    print(f\"✅ Zip salvo: {caminho_zip}\")\n",
    "\n",
    "    # Abrir zip em memória\n",
    "    with zipfile.ZipFile(io.BytesIO(resp.content)) as z:\n",
    "        nomes_zip = z.namelist()\n",
    "        for nome_dem, padrao in DEMONSTRATIVOS.items():\n",
    "            # encontrar arquivo CSV consolidado que contenha o padrão\n",
    "            # ex: “dfp_cia_aberta_BPA_con_2023.csv”\n",
    "            possiveis = [f for f in nomes_zip if padrao in f and f.endswith(\".csv\")]\n",
    "            if not possiveis:\n",
    "                print(f\"⚠️ Não achei arquivo {padrao} para ano {ano}\")\n",
    "                continue\n",
    "\n",
    "            # Escolher o primeiro que encontrar\n",
    "            nome_arq = possiveis[0]\n",
    "            print(f\"   ↳ Extraindo {nome_arq} para {nome_dem}, ano {ano}\")\n",
    "\n",
    "            with z.open(nome_arq) as arq:\n",
    "                # Ler CSV com encoding e separador certos; pode ajustar dependendo do CSV\n",
    "                df = pd.read_csv(arq, sep=\";\", encoding=\"latin1\", dtype=str)\n",
    "\n",
    "            # Filtrar para Embraer\n",
    "            df_emb = df[df[\"DENOM_CIA\"].str.strip().str.upper() == EMPRESA.upper()]\n",
    "            if df_emb.empty:\n",
    "                print(f\"      ‼️ Nenhum registro para Embraer no {nome_dem}, ano {ano}\")\n",
    "            else:\n",
    "                # Adicionar coluna ano para pivotar depois ou para checagem\n",
    "                df_emb[\"ANO\"] = ano\n",
    "                dfs[nome_dem].append(df_emb)\n",
    "\n",
    "# Após o loop, concatenar e salvar CSVs\n",
    "for nome_dem, lista in dfs.items():\n",
    "    if not lista:\n",
    "        print(f\"⚠️ Sem dados para {nome_dem} nos anos especificados.\")\n",
    "        continue\n",
    "    df_total = pd.concat(lista, ignore_index=True)\n",
    "    caminho_saida = os.path.join(PASTA_SAIDA, f\"{nome_dem}_Embraer_2020-2024.csv\")\n",
    "    df_total.to_csv(caminho_saida, index=False, encoding=\"utf-8-sig\", sep=\";\")\n",
    "    print(f\"✅ Salvou {caminho_saida}\")\n"
   ]
  },
  {
   "cell_type": "code",
   "execution_count": 5,
   "id": "322b6344",
   "metadata": {},
   "outputs": [
    {
     "name": "stdout",
     "output_type": "stream",
     "text": [
      "📦 Salvou versão contabil: saida\\Ativo_contabil_2020-2024.csv\n",
      "📦 Salvou versão contabil: saida\\Passivo_contabil_2020-2024.csv\n",
      "📦 Salvou versão contabil: saida\\DRE_contabil_2020-2024.csv\n",
      "📦 Salvou versão contabil: saida\\DFC_contabil_2020-2024.csv\n"
     ]
    }
   ],
   "source": [
    "for nome_dem in DEMONSTRATIVOS.keys():\n",
    "    caminho = os.path.join(PASTA_SAIDA, f\"{nome_dem}_Embraer_2020-2024.csv\")\n",
    "    if not os.path.exists(caminho):\n",
    "        continue\n",
    "    df = pd.read_csv(caminho, sep=\";\", encoding=\"utf-8-sig\", dtype=str)\n",
    "    # Selecionar colunas necessárias\n",
    "    # Exemplo típico:\n",
    "    df_sel = df[[\"CD_CONTA\", \"DS_CONTA\", \"ANO\", \"VL_CONTA\"]]\n",
    "    # Pivot\n",
    "    df_pivot = df_sel.pivot_table(index=[\"CD_CONTA\", \"DS_CONTA\"], \n",
    "                                  columns=\"ANO\", values=\"VL_CONTA\", aggfunc=\"first\").reset_index()\n",
    "    # Salvar no lugar ou outro nome\n",
    "    novo = os.path.join(PASTA_SAIDA, f\"{nome_dem}_contabil_2020-2024.csv\")\n",
    "    df_pivot.to_csv(novo, index=False, encoding=\"utf-8-sig\", sep=\";\")\n",
    "    print(f\"📦 Salvou versão contabil: {novo}\")"
   ]
  },
  {
   "cell_type": "code",
   "execution_count": 7,
   "id": "3319cc03",
   "metadata": {},
   "outputs": [
    {
     "name": "stdout",
     "output_type": "stream",
     "text": [
      "✅ Arquivo Excel criado: Demonstrações_Embraer.xlsm\n"
     ]
    }
   ],
   "source": [
    "ARQUIVO_XLSM = \"Demonstrações_Embraer.xlsm\"\n",
    "\n",
    "# Arquivos de entrada\n",
    "arquivos = {\n",
    "    \"Ativo\": \"Ativo_Embraer_2020-2024.csv\",\n",
    "    \"Passivo\": \"Passivo_Embraer_2020-2024.csv\",\n",
    "    \"DRE\": \"DRE_Embraer_2020-2024.csv\",\n",
    "    \"DFC\": \"DFC_Embraer_2020-2024.csv\"  # pode trocar para DFC_MD se quiser\n",
    "}\n",
    "\n",
    "with pd.ExcelWriter(ARQUIVO_XLSM, engine=\"openpyxl\") as writer:\n",
    "    for aba, nome_arq in arquivos.items():\n",
    "        caminho = os.path.join(PASTA_SAIDA, nome_arq)\n",
    "        if not os.path.exists(caminho):\n",
    "            print(f\"⚠️ Arquivo não encontrado: {caminho}\")\n",
    "            continue\n",
    "\n",
    "        # Ler CSV\n",
    "        df = pd.read_csv(caminho, sep=\";\", encoding=\"utf-8-sig\")\n",
    "\n",
    "        # Pivotar: Conta x Ano\n",
    "        if \"CD_CONTA\" in df.columns and \"DS_CONTA\" in df.columns:\n",
    "            df[\"Conta\"] = df[\"CD_CONTA\"] + \" - \" + df[\"DS_CONTA\"]\n",
    "        else:\n",
    "            df[\"Conta\"] = df[\"DS_CONTA\"]\n",
    "\n",
    "        # Converter valores para numérico (quando possível)\n",
    "        df[\"VALOR\"] = pd.to_numeric(df[\"VL_CONTA\"], errors=\"coerce\")\n",
    "\n",
    "        tabela = df.pivot_table(\n",
    "            index=\"Conta\",\n",
    "            columns=\"ANO\",\n",
    "            values=\"VALOR\",\n",
    "            aggfunc=\"first\"\n",
    "        ).reset_index()\n",
    "\n",
    "        # Salvar na aba correspondente\n",
    "        tabela.to_excel(writer, sheet_name=aba, index=False)\n",
    "\n",
    "print(f\"✅ Arquivo Excel criado: {ARQUIVO_XLSM}\")"
   ]
  }
 ],
 "metadata": {
  "kernelspec": {
   "display_name": "Python 3",
   "language": "python",
   "name": "python3"
  },
  "language_info": {
   "codemirror_mode": {
    "name": "ipython",
    "version": 3
   },
   "file_extension": ".py",
   "mimetype": "text/x-python",
   "name": "python",
   "nbconvert_exporter": "python",
   "pygments_lexer": "ipython3",
   "version": "3.13.0"
  }
 },
 "nbformat": 4,
 "nbformat_minor": 5
}
